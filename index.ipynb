{
 "cells": [
  {
   "cell_type": "markdown",
   "metadata": {},
   "source": [
    "# Database Admin 101 - Lab\n",
    "\n",
    "## Introduction \n",
    "\n",
    "In this lab, you'll go through the process of designing and creating a database. From there, you'll begin to populate this table with mock data provided to you.\n",
    "\n",
    "## Objectives\n",
    "\n",
    "You will be able to:\n",
    "\n",
    "* Use knowledge of the structure of databases to create a database and populate it"
   ]
  },
  {
   "cell_type": "markdown",
   "metadata": {},
   "source": [
    "## The Scenario\n",
    "\n",
    "You are looking to design a database for a school that will house various information from student grades to contact information, class roster lists and attendance. First, think of how you would design such a database. What tables would you include? What columns would each table have? What would be the primary means to join said tables?"
   ]
  },
  {
   "cell_type": "markdown",
   "metadata": {},
   "source": [
    "## Creating the Database\n",
    "\n",
    "Now that you've put a little thought into how you might design your database, it's time to go ahead and create it! Start by import the necessary packages. Then, create a database called **school.sqlite**."
   ]
  },
  {
   "cell_type": "code",
   "execution_count": 1,
   "metadata": {},
   "outputs": [],
   "source": [
    "# Import necessary packages\n",
    "import sqlite3\n",
    "conn = sqlite3.connect('school.sqlite')"
   ]
  },
  {
   "cell_type": "code",
   "execution_count": 2,
   "metadata": {},
   "outputs": [
    {
     "name": "stdout",
     "output_type": "stream",
     "text": [
      "CONTRIBUTING.md\n",
      "LICENSE.md\n",
      "README.md\n",
      "contact_list.pickle\n",
      "env\n",
      "index.ipynb\n",
      "school.sqlite\n"
     ]
    }
   ],
   "source": [
    "# Create the database school.sqlite \n",
    "cur = conn.cursor()\n",
    "!ls"
   ]
  },
  {
   "cell_type": "markdown",
   "metadata": {},
   "source": [
    "## Create a Table for Contact Information\n",
    "\n",
    "Create a table called contactInfo to house contact information for both students and staff. Be sure to include columns for first name, last name, role (student/staff), telephone number, street, city, state, and zipcode. Be sure to also create a primary key for the table. "
   ]
  },
  {
   "cell_type": "code",
   "execution_count": 3,
   "metadata": {},
   "outputs": [
    {
     "data": {
      "text/plain": [
       "<sqlite3.Cursor at 0x1dbc0b928f0>"
      ]
     },
     "execution_count": 3,
     "metadata": {},
     "output_type": "execute_result"
    }
   ],
   "source": [
    "# Your code here\n",
    "cur.execute(\"\"\"CREATE TABLE contactinfo(\n",
    "    id INTEGER PRIMARY KEY,\n",
    "    first_name TEXT,\n",
    "    last_name TEXT,\n",
    "    role TEXT,\n",
    "    telephone_num INTEGER,\n",
    "    street TEXT,\n",
    "    city TEXT,\n",
    "    state TEXT,\n",
    "    zipcode INTEGER\n",
    ") \n",
    "\n",
    "\"\"\")\n",
    "\n"
   ]
  },
  {
   "cell_type": "code",
   "execution_count": null,
   "metadata": {},
   "outputs": [],
   "source": []
  },
  {
   "cell_type": "markdown",
   "metadata": {},
   "source": [
    "## Populate the Table\n",
    "\n",
    "Below, code is provided for you in order to load a list of dictionaries. Briefly examine the list. Each dictionary in the list will serve as an entry for your contact info table. Once you've briefly investigated the structure of this data, write a for loop to iterate through the list and create an entry in your table for each person's contact info."
   ]
  },
  {
   "cell_type": "code",
   "execution_count": 4,
   "metadata": {},
   "outputs": [
    {
     "data": {
      "text/plain": [
       "[{'firstName': 'Christine',\n",
       "  'lastName': 'Holden',\n",
       "  'role': 'staff',\n",
       "  'telephone ': 2035687697,\n",
       "  'street': '1672 Whitman Court',\n",
       "  'city': 'Stamford',\n",
       "  'state': 'CT',\n",
       "  'zipcode ': '06995'},\n",
       " {'firstName': 'Christopher',\n",
       "  'lastName': 'Warren',\n",
       "  'role': 'student',\n",
       "  'telephone ': 2175150957,\n",
       "  'street': '1935 University Hill Road',\n",
       "  'city': 'Champaign',\n",
       "  'state': 'IL',\n",
       "  'zipcode ': '61938'},\n",
       " {'firstName': 'Linda',\n",
       "  'lastName': 'Jacobson',\n",
       "  'role': 'staff',\n",
       "  'telephone ': 4049446441,\n",
       "  'street': '479 Musgrave Street',\n",
       "  'city': 'Atlanta',\n",
       "  'state': 'GA',\n",
       "  'zipcode ': '30303'},\n",
       " {'firstName': 'Andrew',\n",
       "  'lastName': 'Stepp',\n",
       "  'role': 'student',\n",
       "  'telephone ': 7866419252,\n",
       "  'street': '2981 Lamberts Branch Road',\n",
       "  'city': 'Hialeah',\n",
       "  'state': 'Fl',\n",
       "  'zipcode ': '33012'},\n",
       " {'firstName': 'Jane',\n",
       "  'lastName': 'Evans',\n",
       "  'role': 'student',\n",
       "  'telephone ': 3259909290,\n",
       "  'street': '1461 Briarhill Lane',\n",
       "  'city': 'Abilene',\n",
       "  'state': 'TX',\n",
       "  'zipcode ': '79602'},\n",
       " {'firstName': 'Jane',\n",
       "  'lastName': 'Evans',\n",
       "  'role': 'student',\n",
       "  'telephone ': 3259909290,\n",
       "  'street': '1461 Briarhill Lane',\n",
       "  'city': 'Abilene',\n",
       "  'state': 'TX',\n",
       "  'zipcode ': '79602'},\n",
       " {'firstName': 'Mary',\n",
       "  'lastName': 'Raines',\n",
       "  'role': 'student',\n",
       "  'telephone ': 9075772295,\n",
       "  'street': '3975 Jerry Toth Drive',\n",
       "  'city': 'Ninilchik',\n",
       "  'state': 'AK',\n",
       "  'zipcode ': '99639'},\n",
       " {'firstName': 'Ed',\n",
       "  'lastName': 'Lyman',\n",
       "  'role': 'student',\n",
       "  'telephone ': 5179695576,\n",
       "  'street': '3478 Be Sreet',\n",
       "  'city': 'Lansing',\n",
       "  'state': 'MI',\n",
       "  'zipcode ': '48933'}]"
      ]
     },
     "execution_count": 4,
     "metadata": {},
     "output_type": "execute_result"
    }
   ],
   "source": [
    "# Load the list of dictionaries; just run this cell\n",
    "import pickle\n",
    "\n",
    "with open('contact_list.pickle', 'rb') as f:\n",
    "    contacts = pickle.load(f)\n",
    "contacts"
   ]
  },
  {
   "cell_type": "code",
   "execution_count": 5,
   "metadata": {},
   "outputs": [],
   "source": [
    "for contact in contacts:\n",
    "    cur.execute(\"\"\"\n",
    "        INSERT INTO contactinfo (\n",
    "            first_name, last_name, role, telephone_num,\n",
    "            street, city, state, zipcode\n",
    "        ) VALUES (?, ?, ?, ?, ?, ?, ?,?)\n",
    "    \"\"\", (\n",
    "        contact['firstName'],\n",
    "        contact['lastName'],\n",
    "        contact['role'],\n",
    "        contact['telephone '],  \n",
    "        contact['street'],\n",
    "        contact['city'],\n",
    "        contact['state'],\n",
    "        contact['zipcode ']     \n",
    "    ))"
   ]
  },
  {
   "cell_type": "markdown",
   "metadata": {},
   "source": [
    "**Query the Table to Ensure it is populated**"
   ]
  },
  {
   "cell_type": "code",
   "execution_count": 6,
   "metadata": {},
   "outputs": [
    {
     "data": {
      "text/plain": [
       "[(1,\n",
       "  'Christine',\n",
       "  'Holden',\n",
       "  'staff',\n",
       "  2035687697,\n",
       "  '1672 Whitman Court',\n",
       "  'Stamford',\n",
       "  'CT',\n",
       "  6995),\n",
       " (2,\n",
       "  'Christopher',\n",
       "  'Warren',\n",
       "  'student',\n",
       "  2175150957,\n",
       "  '1935 University Hill Road',\n",
       "  'Champaign',\n",
       "  'IL',\n",
       "  61938),\n",
       " (3,\n",
       "  'Linda',\n",
       "  'Jacobson',\n",
       "  'staff',\n",
       "  4049446441,\n",
       "  '479 Musgrave Street',\n",
       "  'Atlanta',\n",
       "  'GA',\n",
       "  30303),\n",
       " (4,\n",
       "  'Andrew',\n",
       "  'Stepp',\n",
       "  'student',\n",
       "  7866419252,\n",
       "  '2981 Lamberts Branch Road',\n",
       "  'Hialeah',\n",
       "  'Fl',\n",
       "  33012),\n",
       " (5,\n",
       "  'Jane',\n",
       "  'Evans',\n",
       "  'student',\n",
       "  3259909290,\n",
       "  '1461 Briarhill Lane',\n",
       "  'Abilene',\n",
       "  'TX',\n",
       "  79602),\n",
       " (6,\n",
       "  'Jane',\n",
       "  'Evans',\n",
       "  'student',\n",
       "  3259909290,\n",
       "  '1461 Briarhill Lane',\n",
       "  'Abilene',\n",
       "  'TX',\n",
       "  79602),\n",
       " (7,\n",
       "  'Mary',\n",
       "  'Raines',\n",
       "  'student',\n",
       "  9075772295,\n",
       "  '3975 Jerry Toth Drive',\n",
       "  'Ninilchik',\n",
       "  'AK',\n",
       "  99639),\n",
       " (8,\n",
       "  'Ed',\n",
       "  'Lyman',\n",
       "  'student',\n",
       "  5179695576,\n",
       "  '3478 Be Sreet',\n",
       "  'Lansing',\n",
       "  'MI',\n",
       "  48933)]"
      ]
     },
     "execution_count": 6,
     "metadata": {},
     "output_type": "execute_result"
    }
   ],
   "source": [
    "# Your code here \n",
    "cur.execute(\"\"\"SELECT * FROM contactinfo;\"\"\").fetchall()"
   ]
  },
  {
   "cell_type": "markdown",
   "metadata": {},
   "source": [
    "## Commit Your Changes to the Database\n",
    "\n",
    "Persist your changes by committing them to the database."
   ]
  },
  {
   "cell_type": "code",
   "execution_count": 7,
   "metadata": {},
   "outputs": [],
   "source": [
    "# Your code here\n",
    "conn.commit()"
   ]
  },
  {
   "cell_type": "markdown",
   "metadata": {},
   "source": [
    "## Create a Table for Student Grades\n",
    "\n",
    "Create a new table in the database called \"grades\". In the table, include the following fields: userId, courseId, grade.\n",
    "\n",
    "** This problem is a bit more tricky and will require a dual key. (A nuance you have yet to see.)\n",
    "Here's how to do that:\n",
    "\n",
    "```SQL\n",
    "CREATE TABLE table_name(\n",
    "   column_1 INTEGER NOT NULL,\n",
    "   column_2 INTEGER NOT NULL,\n",
    "   ...\n",
    "   PRIMARY KEY(column_1,column_2,...)\n",
    ");\n",
    "```"
   ]
  },
  {
   "cell_type": "code",
   "execution_count": 8,
   "metadata": {},
   "outputs": [
    {
     "data": {
      "text/plain": [
       "<sqlite3.Cursor at 0x1dbc0b928f0>"
      ]
     },
     "execution_count": 8,
     "metadata": {},
     "output_type": "execute_result"
    }
   ],
   "source": [
    "# Create the grades table\n",
    "cur.execute('''CREATE TABLE grades(\n",
    "    userId INTEGER NOT NULL,\n",
    "    courseId INTEGER NOT NULL,\n",
    "    grade INTEGER,\n",
    "    PRIMARY KEY (userId,courseId)\n",
    ");''')"
   ]
  },
  {
   "cell_type": "markdown",
   "metadata": {},
   "source": [
    "## Remove Duplicate Entries\n",
    "\n",
    "An analyst just realized that there is a duplicate entry in the contactInfo table! Find and remove it."
   ]
  },
  {
   "cell_type": "code",
   "execution_count": 9,
   "metadata": {},
   "outputs": [
    {
     "name": "stdout",
     "output_type": "stream",
     "text": [
      "Row:[5, 'Jane', 'Evans', 'student', 3259909290, '1461 Briarhill Lane', 'Abilene', 'TX', 79602] appears 2 times\n"
     ]
    }
   ],
   "source": [
    "# Find the duplicate entry\n",
    "q = \"\"\"\n",
    "SELECT *,COUNT(*) AS  count\n",
    "FROM contactinfo\n",
    "GROUP BY first_name,last_name,role\n",
    "HAVING count > 1\n",
    "\"\"\"\n",
    "\n",
    "duplicates = cur.execute(q).fetchall()\n",
    "\n",
    "for row in duplicates:\n",
    "    *data,count = row\n",
    "    print(f'Row:{data} appears {count} times')"
   ]
  },
  {
   "cell_type": "code",
   "execution_count": 10,
   "metadata": {},
   "outputs": [
    {
     "data": {
      "text/plain": [
       "<sqlite3.Cursor at 0x1dbc0b928f0>"
      ]
     },
     "execution_count": 10,
     "metadata": {},
     "output_type": "execute_result"
    }
   ],
   "source": [
    "# Delete the duplicate entry\n",
    "cur.execute(\"\"\"\n",
    "DELETE FROM contactinfo WHERE id=6\n",
    "\"\"\")"
   ]
  },
  {
   "cell_type": "code",
   "execution_count": 11,
   "metadata": {},
   "outputs": [
    {
     "data": {
      "text/plain": [
       "[(1,\n",
       "  'Christine',\n",
       "  'Holden',\n",
       "  'staff',\n",
       "  2035687697,\n",
       "  '1672 Whitman Court',\n",
       "  'Stamford',\n",
       "  'CT',\n",
       "  6995),\n",
       " (2,\n",
       "  'Christopher',\n",
       "  'Warren',\n",
       "  'student',\n",
       "  2175150957,\n",
       "  '1935 University Hill Road',\n",
       "  'Champaign',\n",
       "  'IL',\n",
       "  61938),\n",
       " (3,\n",
       "  'Linda',\n",
       "  'Jacobson',\n",
       "  'staff',\n",
       "  4049446441,\n",
       "  '479 Musgrave Street',\n",
       "  'Atlanta',\n",
       "  'GA',\n",
       "  30303),\n",
       " (4,\n",
       "  'Andrew',\n",
       "  'Stepp',\n",
       "  'student',\n",
       "  7866419252,\n",
       "  '2981 Lamberts Branch Road',\n",
       "  'Hialeah',\n",
       "  'Fl',\n",
       "  33012),\n",
       " (5,\n",
       "  'Jane',\n",
       "  'Evans',\n",
       "  'student',\n",
       "  3259909290,\n",
       "  '1461 Briarhill Lane',\n",
       "  'Abilene',\n",
       "  'TX',\n",
       "  79602),\n",
       " (7,\n",
       "  'Mary',\n",
       "  'Raines',\n",
       "  'student',\n",
       "  9075772295,\n",
       "  '3975 Jerry Toth Drive',\n",
       "  'Ninilchik',\n",
       "  'AK',\n",
       "  99639),\n",
       " (8,\n",
       "  'Ed',\n",
       "  'Lyman',\n",
       "  'student',\n",
       "  5179695576,\n",
       "  '3478 Be Sreet',\n",
       "  'Lansing',\n",
       "  'MI',\n",
       "  48933)]"
      ]
     },
     "execution_count": 11,
     "metadata": {},
     "output_type": "execute_result"
    }
   ],
   "source": [
    "# Check that the duplicate entry was removed\n",
    "cur.execute(\"\"\"SELECT * FROM contactinfo\"\"\").fetchall()"
   ]
  },
  {
   "cell_type": "markdown",
   "metadata": {},
   "source": [
    "## Updating an Address\n",
    "\n",
    "Ed Lyman just moved to `2910 Simpson Avenue York, PA 17403`. Update his address accordingly."
   ]
  },
  {
   "cell_type": "code",
   "execution_count": 12,
   "metadata": {},
   "outputs": [
    {
     "data": {
      "text/plain": [
       "<sqlite3.Cursor at 0x1dbc0b928f0>"
      ]
     },
     "execution_count": 12,
     "metadata": {},
     "output_type": "execute_result"
    }
   ],
   "source": [
    "# Update Ed's address\n",
    "cur.execute(\"\"\"\n",
    "UPDATE contactinfo\n",
    "SET street = \"2910 Simpson Avenue\",\n",
    "    city = \"York\",\n",
    "    state = \"PA\",\n",
    "    zipcode = 17403\n",
    "WHERE first_name = \"Ed\" AND last_name = \"Lyman\"\n",
    "\"\"\")"
   ]
  },
  {
   "cell_type": "code",
   "execution_count": 13,
   "metadata": {},
   "outputs": [
    {
     "data": {
      "text/plain": [
       "[(8,\n",
       "  'Ed',\n",
       "  'Lyman',\n",
       "  'student',\n",
       "  5179695576,\n",
       "  '2910 Simpson Avenue',\n",
       "  'York',\n",
       "  'PA',\n",
       "  17403)]"
      ]
     },
     "execution_count": 13,
     "metadata": {},
     "output_type": "execute_result"
    }
   ],
   "source": [
    "# Query the database to ensure the change was made\n",
    "cur.execute(\"\"\"SELECT * FROM contactinfo WHERE id=8;\"\"\").fetchall()"
   ]
  },
  {
   "cell_type": "markdown",
   "metadata": {},
   "source": [
    "## Commit Your Changes to the Database\n",
    "\n",
    "Once again, persist your changes by committing them to the database."
   ]
  },
  {
   "cell_type": "code",
   "execution_count": 14,
   "metadata": {},
   "outputs": [],
   "source": [
    "# Your code here\n",
    "conn.commit()"
   ]
  },
  {
   "cell_type": "markdown",
   "metadata": {},
   "source": [
    "## Summary\n",
    "\n",
    "While there's certainly more to do with setting up and managing this database, you got a taste for creating, populating, and maintaining databases! Feel free to continue fleshing out this exercise for more practice. "
   ]
  }
 ],
 "metadata": {
  "kernelspec": {
   "display_name": "Python 3",
   "language": "python",
   "name": "python3"
  },
  "language_info": {
   "codemirror_mode": {
    "name": "ipython",
    "version": 3
   },
   "file_extension": ".py",
   "mimetype": "text/x-python",
   "name": "python",
   "nbconvert_exporter": "python",
   "pygments_lexer": "ipython3",
   "version": "3.8.5"
  },
  "toc": {
   "base_numbering": 1,
   "nav_menu": {},
   "number_sections": true,
   "sideBar": true,
   "skip_h1_title": false,
   "title_cell": "Table of Contents",
   "title_sidebar": "Contents",
   "toc_cell": false,
   "toc_position": {},
   "toc_section_display": true,
   "toc_window_display": false
  }
 },
 "nbformat": 4,
 "nbformat_minor": 2
}
